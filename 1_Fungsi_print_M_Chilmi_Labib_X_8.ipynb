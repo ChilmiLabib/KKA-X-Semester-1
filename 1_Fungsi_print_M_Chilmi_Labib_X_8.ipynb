{
  "nbformat": 4,
  "nbformat_minor": 0,
  "metadata": {
    "colab": {
      "provenance": [],
      "authorship_tag": "ABX9TyPyLoRIE/soIbnVn/kkMg4k",
      "include_colab_link": true
    },
    "kernelspec": {
      "name": "python3",
      "display_name": "Python 3"
    },
    "language_info": {
      "name": "python"
    }
  },
  "cells": [
    {
      "cell_type": "markdown",
      "metadata": {
        "id": "view-in-github",
        "colab_type": "text"
      },
      "source": [
        "<a href=\"https://colab.research.google.com/github/ChilmiLabib/KKA-X-Semester-1/blob/main/1_Fungsi_print_M_Chilmi_Labib_X_8.ipynb\" target=\"_parent\"><img src=\"https://colab.research.google.com/assets/colab-badge.svg\" alt=\"Open In Colab\"/></a>"
      ]
    },
    {
      "cell_type": "markdown",
      "source": [
        "Nama: Muchammad Chilmi Labib\n",
        "\n",
        "Kelas: X.8\n",
        "\n",
        "No.Absen: 20"
      ],
      "metadata": {
        "id": "gh8itq-PdilV"
      }
    },
    {
      "cell_type": "markdown",
      "source": [
        "#Menampilkan Teks Bebas"
      ],
      "metadata": {
        "id": "E2JIJsbofjt_"
      }
    },
    {
      "cell_type": "code",
      "execution_count": null,
      "metadata": {
        "colab": {
          "base_uri": "https://localhost:8080/"
        },
        "id": "gzfAufWycuIe",
        "outputId": "a820b26b-46f1-4479-e51f-102c9bf741e8"
      },
      "outputs": [
        {
          "output_type": "stream",
          "name": "stdout",
          "text": [
            "Helo world!\n"
          ]
        }
      ],
      "source": [
        "print(\"Helo world!\")"
      ]
    },
    {
      "cell_type": "code",
      "source": [
        "print(\"Muchammad Chilmi Labib\")"
      ],
      "metadata": {
        "colab": {
          "base_uri": "https://localhost:8080/"
        },
        "id": "HHyuJOO3hZDH",
        "outputId": "9b8d24a2-28f1-4b9f-bd2b-b71d6a04300d"
      },
      "execution_count": null,
      "outputs": [
        {
          "output_type": "stream",
          "name": "stdout",
          "text": [
            "Muchammad Chilmi Labib\n"
          ]
        }
      ]
    },
    {
      "cell_type": "markdown",
      "source": [
        "#Menampilkan Nilai Variable"
      ],
      "metadata": {
        "id": "jpF5JdsuiFef"
      }
    },
    {
      "cell_type": "code",
      "source": [
        "usia = 15\n",
        "\n",
        "print(usia)"
      ],
      "metadata": {
        "colab": {
          "base_uri": "https://localhost:8080/"
        },
        "id": "6vOOdcuXiSKF",
        "outputId": "6d31ef55-162d-46bc-ad92-4741a6682ab8"
      },
      "execution_count": null,
      "outputs": [
        {
          "output_type": "stream",
          "name": "stdout",
          "text": [
            "15\n"
          ]
        }
      ]
    },
    {
      "cell_type": "code",
      "source": [
        "nama = \"Muchammad Chilmi Labib\"\n",
        "\n",
        "print (nama)"
      ],
      "metadata": {
        "colab": {
          "base_uri": "https://localhost:8080/"
        },
        "id": "iSghjP-tjLXm",
        "outputId": "4df895a2-c9b1-4343-ef05-648dafbba9c1"
      },
      "execution_count": null,
      "outputs": [
        {
          "output_type": "stream",
          "name": "stdout",
          "text": [
            "Muchammad Chilmi Labib\n"
          ]
        }
      ]
    },
    {
      "cell_type": "code",
      "source": [
        "BB = \"53\"\n",
        "\n",
        "print (BB)"
      ],
      "metadata": {
        "colab": {
          "base_uri": "https://localhost:8080/"
        },
        "id": "rArNf3uckAjh",
        "outputId": "d29d796c-66c7-4741-da74-f7b8321ba146"
      },
      "execution_count": null,
      "outputs": [
        {
          "output_type": "stream",
          "name": "stdout",
          "text": [
            "53\n"
          ]
        }
      ]
    },
    {
      "cell_type": "markdown",
      "source": [
        "#Menampilkan Teks Bebas dan Nilai Variabel"
      ],
      "metadata": {
        "id": "J5rGq9EilFyN"
      }
    },
    {
      "cell_type": "code",
      "source": [
        "print(f\"Perkenalkan nama saya {nama}.\")"
      ],
      "metadata": {
        "colab": {
          "base_uri": "https://localhost:8080/"
        },
        "id": "Mtzd6FG9lPoM",
        "outputId": "1305ecbd-d3a1-44e8-8b48-f31593f86fb7"
      },
      "execution_count": null,
      "outputs": [
        {
          "output_type": "stream",
          "name": "stdout",
          "text": [
            "Perkenalkan nama saya Muchammad Chilmi Labib.\n"
          ]
        }
      ]
    },
    {
      "cell_type": "code",
      "source": [
        "print (f\"Berat badan saya {BB} KG.\")"
      ],
      "metadata": {
        "colab": {
          "base_uri": "https://localhost:8080/"
        },
        "id": "TCg7lTj7l6Nn",
        "outputId": "3e0a934a-f626-4c98-ebbd-8aa1fc7c7fdc"
      },
      "execution_count": null,
      "outputs": [
        {
          "output_type": "stream",
          "name": "stdout",
          "text": [
            "Berat badan saya 53 KG.\n"
          ]
        }
      ]
    },
    {
      "cell_type": "code",
      "source": [
        "print(\"Perkenalkan nama saya \" + nama )"
      ],
      "metadata": {
        "colab": {
          "base_uri": "https://localhost:8080/"
        },
        "id": "Cl070aSQm5WC",
        "outputId": "35bf93d5-6c25-4f23-9a80-5a1f00191145"
      },
      "execution_count": null,
      "outputs": [
        {
          "output_type": "stream",
          "name": "stdout",
          "text": [
            " Perkenalkan nama saya Muchammad Chilmi Labib\n"
          ]
        }
      ]
    },
    {
      "cell_type": "code",
      "source": [
        "print(\"Berat badan saya \" + str(BB) +\"KG\")"
      ],
      "metadata": {
        "colab": {
          "base_uri": "https://localhost:8080/"
        },
        "id": "KDPkojGZqgP5",
        "outputId": "3b70b884-d6ef-4cb0-831f-8a2061ae50f7"
      },
      "execution_count": null,
      "outputs": [
        {
          "output_type": "stream",
          "name": "stdout",
          "text": [
            "berat badan saya 53KG\n"
          ]
        }
      ]
    },
    {
      "cell_type": "code",
      "source": [
        "print(\"Berat badan saya \" ,(BB), \"KG.\" )"
      ],
      "metadata": {
        "colab": {
          "base_uri": "https://localhost:8080/"
        },
        "id": "AQoGw2PBnW3q",
        "outputId": "1acc6c0d-1dd4-4a91-e9d9-7000b9d07123"
      },
      "execution_count": null,
      "outputs": [
        {
          "output_type": "stream",
          "name": "stdout",
          "text": [
            "berat badan saya  53 KG.\n"
          ]
        }
      ]
    },
    {
      "cell_type": "markdown",
      "source": [
        "#Escape Character"
      ],
      "metadata": {
        "id": "1zUmsvse11DR"
      }
    },
    {
      "cell_type": "code",
      "source": [
        "print(\"Nama: Muchammad Chilmi Labib\\nKelas: X.8\\nNo. Absen: 20\")"
      ],
      "metadata": {
        "colab": {
          "base_uri": "https://localhost:8080/"
        },
        "id": "2R-vRigK14t9",
        "outputId": "28bc2d8d-24ef-47e3-b601-16fdab889931"
      },
      "execution_count": null,
      "outputs": [
        {
          "output_type": "stream",
          "name": "stdout",
          "text": [
            "Nama: Muchammad Chilmi Labib\n",
            "Kelas: X.8\n",
            "No. Absen: 20\n"
          ]
        }
      ]
    },
    {
      "cell_type": "code",
      "source": [
        "print(\"\"\"Nama\\t\\t: Muchammad Chilmi Labib\n",
        "Kelas\\t\\t: X.8\n",
        "No.Absen\\t: 20\"\"\")"
      ],
      "metadata": {
        "colab": {
          "base_uri": "https://localhost:8080/"
        },
        "id": "lmR_lTx12LLT",
        "outputId": "5d2dcb9d-62b7-4f3a-cfbd-abfe6fc0049d"
      },
      "execution_count": null,
      "outputs": [
        {
          "output_type": "stream",
          "name": "stdout",
          "text": [
            "Nama\t\t: Muchammad Chilmi Labib \n",
            "Kelas\t\t: X.8\n",
            "No.Absen\t: 20\n"
          ]
        }
      ]
    },
    {
      "cell_type": "code",
      "source": [
        "print(\"Nama: Muchammad Chilmi Labib\\nKelas: X.8\\nNo. Absen: 20\")"
      ],
      "metadata": {
        "colab": {
          "base_uri": "https://localhost:8080/"
        },
        "id": "nOi67fla2eVO",
        "outputId": "3b2cf3dc-a36c-41dc-dc17-6367d1547dfe"
      },
      "execution_count": null,
      "outputs": [
        {
          "output_type": "stream",
          "name": "stdout",
          "text": [
            "Nama: Muchammad Chilmi Labib\n",
            "Kelas: X.8\n",
            "No. Absen: 20\n"
          ]
        }
      ]
    },
    {
      "cell_type": "code",
      "source": [
        "print('Nama: Muchammad Chilmi Labib\\nKelas: X.8\\nNo. Absen: 20')"
      ],
      "metadata": {
        "colab": {
          "base_uri": "https://localhost:8080/"
        },
        "id": "fkZrESdu3DzP",
        "outputId": "fbc0d52d-d23f-422e-bd3f-284506286353"
      },
      "execution_count": null,
      "outputs": [
        {
          "output_type": "stream",
          "name": "stdout",
          "text": [
            "Nama: Muchammad Chilmi Labib\n",
            "Kelas: X.8\n",
            "No. Absen: 20\n"
          ]
        }
      ]
    },
    {
      "cell_type": "code",
      "source": [
        "print(\"Lokasi File Tugas KKA: Local Disk C:\\\\KKA\\\\Tugas Chilmi\")"
      ],
      "metadata": {
        "colab": {
          "base_uri": "https://localhost:8080/"
        },
        "id": "TdBSF50H3cN5",
        "outputId": "a29fa15d-4d7d-4a28-e08d-7453e356c6f8"
      },
      "execution_count": null,
      "outputs": [
        {
          "output_type": "stream",
          "name": "stdout",
          "text": [
            "Lokasi File Tugas KKA: Local Disk C:\\KKA\\Tugas Chilmi\n"
          ]
        }
      ]
    },
    {
      "cell_type": "markdown",
      "source": [
        "#Parameter Fungsi print()"
      ],
      "metadata": {
        "id": "u-WjoxXO3rh-"
      }
    },
    {
      "cell_type": "code",
      "source": [
        "Tahun = 2025\n",
        "Bulan = \"Agustus\"\n",
        "Tanggal = 23\n",
        "\n",
        "print(Tahun, Bulan, Tanggal, sep=\"-\")"
      ],
      "metadata": {
        "colab": {
          "base_uri": "https://localhost:8080/"
        },
        "id": "vZBVM0MC3yPV",
        "outputId": "8c8d9a4c-b28f-4c76-c0a6-bdfd655be7a7"
      },
      "execution_count": null,
      "outputs": [
        {
          "output_type": "stream",
          "name": "stdout",
          "text": [
            "2025-Agustus-23\n"
          ]
        }
      ]
    },
    {
      "cell_type": "code",
      "source": [
        "nama_depan = \"Chilmi\"\n",
        "nama_belakang = \"Labib\"\n",
        "\n",
        "print(nama_depan, end=\" \")\n",
        "print(nama_belakang)"
      ],
      "metadata": {
        "colab": {
          "base_uri": "https://localhost:8080/"
        },
        "id": "Cwp6PIXL4IK5",
        "outputId": "768bccb5-fd1f-4c8f-e255-47c155c31890"
      },
      "execution_count": null,
      "outputs": [
        {
          "output_type": "stream",
          "name": "stdout",
          "text": [
            "Chilmi Labib\n"
          ]
        }
      ]
    },
    {
      "cell_type": "code",
      "source": [
        "nama_siswa_1 = \"Dinda\"\n",
        "nama_siswa_2 = \"Aurin\"\n",
        "nama_siswa_3 = \"Lisaan\"\n",
        "\n",
        "print(nama_siswa_3, nama_siswa_2, nama_siswa_3, nama_siswa_1, sep=\"/\")"
      ],
      "metadata": {
        "colab": {
          "base_uri": "https://localhost:8080/"
        },
        "id": "D1S-hzOzkIpA",
        "outputId": "b2a80ab6-0290-41c5-8e28-d98cb637aacc"
      },
      "execution_count": null,
      "outputs": [
        {
          "output_type": "stream",
          "name": "stdout",
          "text": [
            "Lisaan/Aurin/Lisaan/Dinda\n"
          ]
        }
      ]
    },
    {
      "cell_type": "code",
      "source": [
        "nama_siswa_4 = \"Azkal\"\n",
        "nama_siswa_5 = \"Hasim\"\n",
        "nama_siswa_6 = \"Chilmi\"\n",
        "nama_siswa_7 = \"Nova\"\n",
        "\n",
        "print(nama_siswa_6, end=\"~\")\n",
        "print(nama_siswa_4)\n",
        "\n",
        "print(nama_siswa_5, end=\"-\")\n",
        "print(nama_siswa_7)\n",
        "\n",
        "print(nama_siswa_4, end=\"/\")\n",
        "print(nama_siswa_7, end=\"&\")\n",
        "print(nama_siswa_5)"
      ],
      "metadata": {
        "colab": {
          "base_uri": "https://localhost:8080/"
        },
        "id": "njGJeZN_odg-",
        "outputId": "6b85fca8-bea6-48c3-8991-5a8074e20b7f"
      },
      "execution_count": null,
      "outputs": [
        {
          "output_type": "stream",
          "name": "stdout",
          "text": [
            "Chilmi~Azkal\n",
            "Hasim-Nova\n",
            "Azkal/Nova&Hasim\n"
          ]
        }
      ]
    }
  ]
}